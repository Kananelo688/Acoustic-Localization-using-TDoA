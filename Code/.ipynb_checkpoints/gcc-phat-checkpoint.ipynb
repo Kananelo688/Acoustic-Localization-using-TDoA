{
 "cells": [
  {
   "cell_type": "code",
   "execution_count": 10,
   "id": "a8dee3a6-e141-4f6f-b4a1-509f876de774",
   "metadata": {},
   "outputs": [],
   "source": [
    "#import packages\n",
    "import matplotlib.pyplot as plt #library for plotting and visualisation\n",
    "import numpy as np #library for handling ndarrays\n",
    "import scipy.io.wavfile as sp # libraray to write and read .wav files\n",
    "import sounddevice as sd #library to play and record .wav files"
   ]
  },
  {
   "cell_type": "code",
   "execution_count": 11,
   "id": "8d019ccc-c1d7-4f45-9ba4-9e2801d857da",
   "metadata": {},
   "outputs": [],
   "source": [
    "#define a Function that plots a signal in time-domain\n",
    "def plot_time_domain(signal,start=0,end=10,ylabel=\"Array values\",title=\"Graph of the signal\",digital=False):\n",
    "    N=signal.size\n",
    "    t=np.linspace(start,end,N)\n",
    "    if digital:\n",
    "        plt.scatter(t,signal,marker='o')\n",
    "    else:\n",
    "        plt.plot(t,signal)\n",
    "    plt.xlabel(f\"time(s)\")\n",
    "    plt.title(title)\n",
    "    plt.ylabel(ylabel)\n",
    "    None"
   ]
  },
  {
   "cell_type": "code",
   "execution_count": 12,
   "id": "30a1aa6f-3917-4313-bd16-8e66d8d2a2f8",
   "metadata": {},
   "outputs": [],
   "source": [
    "#define a function that plots a signal in frequency domain with frequency axis laballed in Hz\n",
    "def plot_frequency_domain(signal,sampling_rate=100,title=\"Frequency plot of the signal\", ylabel=\"magnitude\"):\n",
    "    N=signal.size\n",
    "    Time_spacing=1/sampling_rate;\n",
    "    freq_spacing=1/(N*Time_spacing)\n",
    "    if N % 2 ==0:\n",
    "        f_axis=np.arange((-N/2)*freq_spacing,((N/2))*freq_spacing,freq_spacing)\n",
    "    else:\n",
    "        f_axis=np.arange((-(N+1)/2)*freq_spacing,((N-1)/2)*(freq_spacing),freq_spacing)\n",
    "    print(f\"number of frequency samples:{f_axis.size}\")\n",
    "    plt.plot(f_axis,signal)\n",
    "    plt.xlabel(f\"frequency(Hz)\")\n",
    "    plt.title(title)\n",
    "    plt.ylabel(ylabel)\n",
    "    return None"
   ]
  },
  {
   "cell_type": "code",
   "execution_count": 13,
   "id": "5b79eebb-5577-44ce-9967-cfc94ce3dc51",
   "metadata": {},
   "outputs": [],
   "source": [
    "#function that computer FFT of the signal and plots it in frequency domain labelled in Hz\n",
    "def plot_fft(signal,sampling_rate,title=\"FFT of the signal\", ylabel=\"FFT magnitude\"):\n",
    "    N=signal.size # size of the signal\n",
    "    time_spacing=1/sampling_rate\n",
    "    signal_fft=np.fft.fft(signal)#take frequency domain\n",
    "    fft_shift=np.fft.fftshift(signal_fft)\n",
    "    ft_mag=np.abs(fft_shift)*time_spacing\n",
    "    plot_frequency_domain(ft_mag,sampling_rate,title,ylabel)\n",
    "    return None\n",
    "    "
   ]
  },
  {
   "cell_type": "code",
   "execution_count": 14,
   "id": "eddf0093-a486-4f1a-964c-8c1fe4d3659a",
   "metadata": {},
   "outputs": [],
   "source": [
    "#function that reads and play the wave file (returns tha np array of data in the file and sampling rate \n",
    "\n",
    "def read_wav(filename,play=False):\n",
    "    sampling_rate,data=sp.read(filename)\n",
    "    if(play):\n",
    "        sd.play(data,sampling_rate)\n",
    "    return (sampling_rate,data)"
   ]
  },
  {
   "cell_type": "code",
   "execution_count": 15,
   "id": "7bc62fc1-b458-4897-adfe-e97ddd1b9d05",
   "metadata": {},
   "outputs": [],
   "source": [
    "#define a fucntion that computer gcc-phat and returns the cc array\n",
    "def gcc_phat(signal1,signal2):\n",
    "\n",
    "    #Add Zero padding in time domain to signals\n",
    "    n=signal1.size+signal2.size\n",
    "    SIGNAL1=np.fft.fft(signal1,n)\n",
    "    SIGNAL2=np.fft.fft(signal2,n)\n",
    "    Cross_Spectrum=SIGNAL1*np.conj(SIGNAL2)\n",
    "    GCC_PHAT=Cross_Spectrum/np.abs(Cross_Spectrum)\n",
    "    cc=np.fft.ifft(GCC_PHAT)\n",
    "    return np.fft.fftshift(np.real(cc))"
   ]
  },
  {
   "cell_type": "code",
   "execution_count": 49,
   "id": "5d949792-5f62-4f9f-8931-d0b13baeb565",
   "metadata": {},
   "outputs": [],
   "source": [
    "#define a fucntion that returns the time delay between the signals, given thier cross-correlation\n",
    "def get_delay(corr,sampling_rate):\n",
    "    N=corr.size\n",
    "    time_spacing=1/sampling_rate\n",
    "    maximum_shift_ind=(int)(N/2)\n",
    "    shift_index=np.argmax(np.abs(corr))-maximum_shift_ind\n",
    "    tau=(shift_index*time_spacing)\n",
    "    return round(np.abs(tau),3)\n",
    "    "
   ]
  },
  {
   "cell_type": "code",
   "execution_count": null,
   "id": "76509e26-0780-4852-b4e7-d57e6ce7a6dd",
   "metadata": {},
   "outputs": [],
   "source": []
  },
  {
   "cell_type": "code",
   "execution_count": null,
   "id": "8fadc084-6c98-4c8b-9763-77fae1464925",
   "metadata": {},
   "outputs": [],
   "source": []
  },
  {
   "cell_type": "code",
   "execution_count": 52,
   "id": "98271c41-eb4d-4f46-89cd-1f1f69bbb529",
   "metadata": {},
   "outputs": [
    {
     "name": "stdout",
     "output_type": "stream",
     "text": [
      "Estimated delay is 0.217 seconds\n"
     ]
    }
   ],
   "source": [
    "rate1,x1=read_wav(\"signal1.wav\")\n",
    "rate1,x2=read_wav(\"signal2.wav\")\n",
    "cc=gcc_phat(x1,x2)\n",
    "delay=get_delay(cc,rate1)\n",
    "\n",
    "print(f\"Estimated delay is {delay} seconds\")"
   ]
  },
  {
   "cell_type": "code",
   "execution_count": null,
   "id": "f529a252-b616-4417-8287-8669c65a751e",
   "metadata": {},
   "outputs": [],
   "source": []
  },
  {
   "cell_type": "code",
   "execution_count": null,
   "id": "38412fee-a332-4c50-b2f4-c4dd83d71d4b",
   "metadata": {},
   "outputs": [],
   "source": []
  },
  {
   "cell_type": "code",
   "execution_count": null,
   "id": "a18ea5d3-aac6-4560-92a5-9a0b73c19c46",
   "metadata": {},
   "outputs": [],
   "source": []
  },
  {
   "cell_type": "code",
   "execution_count": null,
   "id": "de973bfe-5f7a-4a33-8dbb-8c118734721d",
   "metadata": {},
   "outputs": [],
   "source": []
  }
 ],
 "metadata": {
  "kernelspec": {
   "display_name": "Python 3 (ipykernel)",
   "language": "python",
   "name": "python3"
  },
  "language_info": {
   "codemirror_mode": {
    "name": "ipython",
    "version": 3
   },
   "file_extension": ".py",
   "mimetype": "text/x-python",
   "name": "python",
   "nbconvert_exporter": "python",
   "pygments_lexer": "ipython3",
   "version": "3.8.10"
  }
 },
 "nbformat": 4,
 "nbformat_minor": 5
}
