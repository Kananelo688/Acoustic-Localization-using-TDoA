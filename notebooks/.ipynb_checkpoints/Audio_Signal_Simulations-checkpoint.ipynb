{
 "cells": [
  {
   "cell_type": "markdown",
   "id": "c9be07ef-accf-4cbd-8c26-2edc0a0221fa",
   "metadata": {},
   "source": [
    "## Simulation of Digital Signal Processing Algorithms\n",
    "\n",
    "\n",
    "\n",
    "The following note book is provided to simulat audio signal for the purpose of vidulaising the perfomance of \n",
    "signal processing algorithms, and techniques for time difference of arrival method.\n",
    "\n",
    "\n",
    "\n",
    "\n",
    "### Author: Kananelo Chabeli"
   ]
  },
  {
   "cell_type": "code",
   "execution_count": 1,
   "id": "aed064ec-9a67-4d9a-80e7-29327e854de8",
   "metadata": {},
   "outputs": [],
   "source": [
    "#Imports \n",
    "import sounddevice as sp\n",
    "from scipy.io import wavefile as wav\n",
    "import matplotlib.pyplot as plt\n",
    "import numpy as np\n",
    "%matplotlib inline"
   ]
  },
  {
   "cell_type": "code",
   "execution_count": 49,
   "id": "7cb53380-4b6f-4cbc-96a5-b6540b7cff61",
   "metadata": {},
   "outputs": [],
   "source": [
    "#define a function that reads a wave file from the given file name and returns raw wave file data and sample rate\n",
    "def read_wav(filename,play=False):\n",
    "    rate,data=wav.read(filename)\n",
    "    if play:\n",
    "        sd.play(data,rate)\n",
    "    return (data,rate)"
   ]
  },
  {
   "cell_type": "code",
   "execution_count": 50,
   "id": "cd5424a1-2784-4688-9817-928015e613ab",
   "metadata": {},
   "outputs": [],
   "source": [
    "#Define a function that record and save a wave file\n",
    "\n",
    "def record_wav(filename,duration=20,sampleRate=44100,channels=1):\n",
    "    \"\"\"\n",
    "        The function records a wave file and saves if tot the given file name. The defualt duration of the recording is 20 seconds, \n",
    "        default sampling rate is 44.1kHz and number of channels are 1 by default\n",
    "    \"\"\"\n",
    "    recording=sd.rec(int(duration*sampleRate),sample_rate=sampleRate,channels=channels) # record\n",
    "    sd.wait() #wait until the recording has completed\n",
    "    wav.write(filename,sampleRate,recording)\n",
    "    "
   ]
  },
  {
   "cell_type": "code",
   "execution_count": 52,
   "id": "46e40bbe-dcff-4b3c-a5b9-2bfa49fdf85a",
   "metadata": {},
   "outputs": [],
   "source": [
    "#funtion that generates time axis\n",
    "def time_axis(time_step,points,start=0):\n",
    "    return np.linspace(start*time_step,points*time_step,points)"
   ]
  },
  {
   "cell_type": "code",
   "execution_count": 53,
   "id": "2806a137-5eb7-48f5-a42f-f2bf3de4eb8b",
   "metadata": {},
   "outputs": [],
   "source": [
    "\n",
    "#Define a function that plots the given signal in time domain\n",
    "def time_domain_plot(xv,tv,title=\"Time domain plot of the signal\",ylabel=\"values of the function\"):\n",
    "    if xv.shape!=tv.shape:\n",
    "        print(\"Given arrays do not have same shape!\")\n",
    "        return\n",
    "    plt.plot(tv,xv)\n",
    "    plt.title(title)\n",
    "    plt.ylabel(ylabel)\n",
    "    plt.xlavbel(\"time(s\")\n",
    "    plt.show()"
   ]
  },
  {
   "cell_type": "code",
   "execution_count": 54,
   "id": "56c26a28-6c1b-4d6b-99ab-0609487d0dbd",
   "metadata": {},
   "outputs": [],
   "source": [
    "def single_sided_plot(xv,sampleRate,title=\"Single-Sided Spectrum of the Signal\",ylabel=\"Normalized_Amplitude\"):\n",
    "    N=xv.shape #obtain the shape of the array\n",
    "    XV=np.fft.fft(xv) #Compute fft\n",
    "    FFT=np.roll(XV, N//2) #shift zero frequency component to the center of th spectrum\n",
    "    XV_abs=n.abs(FTT)[N//2:]\n",
    "    #Normalize the amplitude\n",
    "    XV_abs=2/N*XV_abs\n",
    "    #create frequency axis\n",
    "    freq_Axis=sampleRate/N *np.arange(0,len(XV_abs))\n",
    "    #Plot the signal sides spectrum\n",
    "    plt.plot(freq_Axis[1:],XV_abs[1:])\n",
    "    plt.ylabel(ylabel)\n",
    "    plt.xlabel(\"Frequecy(Hz)\")\n",
    "    plt.title(title)"
   ]
  },
  {
   "cell_type": "code",
   "execution_count": 55,
   "id": "28c85942-57d8-47ec-b6cd-940b800d479f",
   "metadata": {},
   "outputs": [],
   "source": [
    "#Adds gaussian random noise to the given sigal with given standard deviation and mean\n",
    "def noiseAdder(xv):\n",
    "\n",
    "    return 40*np.random.rand(xv.shape)+xv"
   ]
  },
  {
   "cell_type": "markdown",
   "id": "aa7daa47-958f-4068-8884-a854263ab765",
   "metadata": {},
   "source": [
    "### Test Functions"
   ]
  },
  {
   "cell_type": "code",
   "execution_count": null,
   "id": "e64abd03-f288-46ff-989c-946f945413bf",
   "metadata": {},
   "outputs": [],
   "source": []
  },
  {
   "cell_type": "code",
   "execution_count": null,
   "id": "7a8d3a03-7e1c-48f5-b4a8-2e359a117bdf",
   "metadata": {},
   "outputs": [],
   "source": []
  }
 ],
 "metadata": {
  "kernelspec": {
   "display_name": "Python 3 (ipykernel)",
   "language": "python",
   "name": "python3"
  },
  "language_info": {
   "codemirror_mode": {
    "name": "ipython",
    "version": 3
   },
   "file_extension": ".py",
   "mimetype": "text/x-python",
   "name": "python",
   "nbconvert_exporter": "python",
   "pygments_lexer": "ipython3",
   "version": "3.8.10"
  }
 },
 "nbformat": 4,
 "nbformat_minor": 5
}
