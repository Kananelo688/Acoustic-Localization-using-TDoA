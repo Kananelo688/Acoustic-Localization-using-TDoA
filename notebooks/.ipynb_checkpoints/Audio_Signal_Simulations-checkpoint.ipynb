{
 "cells": [
  {
   "cell_type": "markdown",
   "id": "c9be07ef-accf-4cbd-8c26-2edc0a0221fa",
   "metadata": {},
   "source": [
    "## Simulation of Digital Signal Processing Algorithms\n",
    "\n",
    "\n",
    "\n",
    "The following note book is provided to simulat audio signal for the purpose of vidulaising the perfomance of \n",
    "signal processing algorithms, and techniques for time difference of arrival method.\n",
    "\n",
    "\n",
    "\n",
    "\n",
    "### Author: Kananelo Chabeli"
   ]
  },
  {
   "cell_type": "markdown",
   "id": "da27c30e-06c2-4c6e-a9d7-eaf55e5f5eb0",
   "metadata": {},
   "source": [
    "### ------------------------------Imports-------------------------"
   ]
  },
  {
   "cell_type": "code",
   "execution_count": 42,
   "id": "aed064ec-9a67-4d9a-80e7-29327e854de8",
   "metadata": {},
   "outputs": [],
   "source": [
    "#Imports \n",
    "import sounddevice as sd\n",
    "from scipy import *\n",
    "import matplotlib.pyplot as plt\n",
    "import numpy as np\n",
    "%matplotlib inline"
   ]
  },
  {
   "cell_type": "markdown",
   "id": "a67f8db8-4c65-4c3d-b1fc-b1dbc6bdfd27",
   "metadata": {},
   "source": [
    "### Implementation of functions that read and record the wave audio files*****************"
   ]
  },
  {
   "cell_type": "code",
   "execution_count": 43,
   "id": "7cb53380-4b6f-4cbc-96a5-b6540b7cff61",
   "metadata": {},
   "outputs": [],
   "source": [
    "#define a function that reads a wave file from the given file name and returns raw wave file data and sample rate\n",
    "def read_wav(filename,play=False):\n",
    "    rate,data=io.wavfile.read(filename)\n",
    "    if play:\n",
    "        sd.play(data,rate)\n",
    "    return data,rate\n",
    "def record_wav(filename,duration,sampling_rate,channels=1):\n",
    "    recording=sd.rec(int(duration*sampling_rate),samplerate=sampling_rate,channels=channels) #record sound\n",
    "    sd.wait() #wait for the recording to complete\n",
    "    io.wavfile.write(filename,sampling_rate,recording)\n",
    "    return recording"
   ]
  },
  {
   "cell_type": "markdown",
   "id": "9af8224c-95dc-4212-a046-a91d4d64f6b3",
   "metadata": {},
   "source": [
    "### Implementation of functions that plot signals in desired domains"
   ]
  },
  {
   "cell_type": "code",
   "execution_count": 44,
   "id": "46e40bbe-dcff-4b3c-a5b9-2bfa49fdf85a",
   "metadata": {},
   "outputs": [],
   "source": [
    "#Function that computes time axis samples for time-domain plotting\n",
    "def time_axis(samples,step):\n",
    "    return np.linspace(0,(samples-1)*step,int(samples))\n",
    "#function that generates frequency axis samples for frequency domain plot\n",
    "\n",
    "def freq_axis(samples,time_step):\n",
    "    freq_step=1/(samples*time_step) #samples spacing in frequency domain\n",
    "    if samples % 2 == 0:\n",
    "       return  np.arange((-samples/2)*freq_step,((samples/2))*freq_step,freq_step)\n",
    "    return np.arange((-(samples+1)/2)*freq_step,((samples-1)/2)*freq_step,freq_step)\n",
    "#coming\n",
    "def time_plot(t,xv,title=\"Time domain plot of the signal\",ylab=\"magnitudes\",label=\"signal1\"):\n",
    "    if len(t)!=len(xv):\n",
    "        print(\"Given arrays must have same dimesions!\")\n",
    "        return\n",
    "    plt.plot(t,xv,label=label)\n",
    "    plt.ylabel(ylab)\n",
    "    plt.title(title)\n",
    "    plt.xlabel(\"time(s)\")\n",
    "    plt.show()\n",
    "#coming\n",
    "def spectral_plot(f,xv,time_step,title=\"Spectral plot of the signal\",ylab=\"magnitude\",plot=True):\n",
    "    if len(f) !=len(xv):\n",
    "        print(\"Given arrays must have same dimesions!\")\n",
    "        return None\n",
    "    XV=np.fft.fft(xv)\n",
    "    XV_Abs=time_step*np.fft.fftshift(np.abs(XV))\n",
    "    if plot:\n",
    "        plt.plot(f,XV_Abs)\n",
    "        plt.title(title)\n",
    "        plt.xlabel(\"Frequency(Hz)\")\n",
    "        plt.ylabel(ylab)\n",
    "        plt.show()\n",
    "    return XV\n",
    "#comming\n",
    "def spectrogral_plot(data,rate,title=\"Spectrogram of the Signal\"):\n",
    "    f,t,Sxx=signal.spectrogram(data,rate) #Compute the spectrum\n",
    "    plt.pcolormesh(t, f, Sxx) #plot the spectrum\n",
    "    plt.title(title)\n",
    "    plt.ylabel(\"$Frequency(Hz)$\")\n",
    "    plt.xlabel(\"$Time(s)$\")\n",
    "    plt.show()\n",
    "    "
   ]
  },
  {
   "cell_type": "markdown",
   "id": "756570be-9329-4af9-a8eb-c6c97b4baf67",
   "metadata": {},
   "source": [
    "### Implementation of Finite Impulse Respose Low Pass Filter for Audio Signal Processing"
   ]
  },
  {
   "cell_type": "code",
   "execution_count": 45,
   "id": "d6564ba4-2357-48dc-b211-a2a6b4ce9d57",
   "metadata": {},
   "outputs": [],
   "source": [
    "#the following fucntion applies Finite Impulse Respose Filter on the signal passed and returns the filtered signal\n",
    "def finite_impulse_response_filter(target_signal,cut_off,sampling_rate,length=29,width=10,response=False):\n",
    "    \"\"\"\n",
    "        This function designs and applies a low pass Finite Impulse Respose filter\n",
    "        on the target_singnal for the given sampling rate, cut_off frequency and transition region width. \n",
    "        The function plots the filter respose if the parameter 'response' is set to true, and returns the filtered signal \n",
    "    \"\"\"\n",
    "    #-----------------Define the Nyquist Frequency-------------\n",
    "    Nyquist_rate=sampling_rate/2\n",
    "    #----------------Define Normalized cut-off frequency-------\n",
    "    normalized_cutoff=cut_off/Nyquist_rate\n",
    "    #---------------Obtain the filter coeficients--------------\n",
    "    filter_coeff=signal.firwin(length,normalized_cutoff,width=width)\n",
    "    if response:\n",
    "        [w,h]=signal.freqz(filter_coeff,worN=20_000)\n",
    "        w=sampling_rate*w/(2*np.pi)\n",
    "        h_db=20*np.log10(abs(h))\n",
    "        plt.plot(w,h_db)\n",
    "        plt.title(\"Frequency Response of the Finite Impulse Response Low Pass\")\n",
    "        plt.ylabel(\"Magnitude(dB)\")\n",
    "        plt.xlabel(\"Frequency(Hz)\")\n",
    "        plt.show()\n",
    "    filtered_signal=signal.lfilter(filter_coeff,1.0,target_signal)\n",
    "    return filtered_signal\n",
    "    "
   ]
  },
  {
   "cell_type": "markdown",
   "id": "ce86533b-b18a-434c-b4a6-ea214d9d1584",
   "metadata": {},
   "source": [
    "## Implement Functions that perform Generalized Cross Correlation "
   ]
  },
  {
   "cell_type": "markdown",
   "id": "936fea42-9f83-4023-8161-259fd3e11ccc",
   "metadata": {},
   "source": [
    "### 1: Generalized Cross Correlation Phase Transform : GCC-PHAT"
   ]
  },
  {
   "cell_type": "code",
   "execution_count": 46,
   "id": "bb9daebc-1b11-49b0-a283-846c5ad4cdff",
   "metadata": {},
   "outputs": [],
   "source": [
    "# Function that takes in two signals, and perform GCC-PHAT on them, \n",
    "#returning the resulting time-domain expression of thier gcc \n",
    "def gcc_phat(signal1,signal2,sampling_rate=1,interp=16):\n",
    "    \"\"\"\n",
    "        This Function implements generalized cross-correlation phase transform of the system\n",
    "        and the resulting cross-correlation and index of where it is maximum.\n",
    "\n",
    "        Parameters:\n",
    "            signal1: ndarray for signals taken as the reference signal\n",
    "            signal2: ndarray of the other signal which is to be correlated with the reference signal\n",
    "        Returns:\n",
    "            cc: ndarray of samples of the resulting cross-correlation\n",
    "            delay: int which equals the index of wheere gcc is maximum\n",
    "    \"\"\"\n",
    "    N=len(signal1)+len(signal2) #Make length so its \n",
    "    #Computed FFT of the signals\n",
    "    SIGNAL1=np.fft.fft(signal1,n=N)#will pad the signals with zeros \n",
    "    SIGNAL2=np.fft.fft(signal2,n=N) #will pad the sigal with zeros\n",
    "    CSD=SIGNAL1*np.conj(SIGNAL2) # Compute Cross-spectral density\n",
    "    cc=np.real(np.fft.ifft(CSD/np.abs(CSD),n=(interp*N)))\n",
    "    #Compute Maximum Shift\n",
    "    max_shift = int(interp * N / 2)\n",
    "    cc = np.concatenate((cc[-max_shift:], cc[:max_shift+1]))\n",
    "    shift = np.argmax(np.abs(cc)) - max_shift\n",
    "    delay=shift/float(interp * sampling_rate) #Compute delay in seconds\n",
    "    return cc,np.abs(delay)"
   ]
  },
  {
   "cell_type": "markdown",
   "id": "0a42078b-3cd1-40e1-a389-6495655abed2",
   "metadata": {},
   "source": [
    "### Test Functions****************"
   ]
  },
  {
   "cell_type": "code",
   "execution_count": 89,
   "id": "fae0461b-0444-4877-9371-ed5a09e7be9c",
   "metadata": {},
   "outputs": [],
   "source": [
    "def rect_pulse(t,A=1,T=1,s=0):\n",
    "    ret=[]\n",
    "    for i in range(len(t)):\n",
    "        if t[i]<(-T/2)+s or t[i]> T/2+s:\n",
    "            ret.append(0)\n",
    "        else:\n",
    "            ret.append(A)\n",
    "    return ret"
   ]
  },
  {
   "cell_type": "code",
   "execution_count": 92,
   "id": "ee21ce77-86f2-4d5a-a404-7982cf30f197",
   "metadata": {},
   "outputs": [
    {
     "ename": "ValueError",
     "evalue": "x and y must have same first dimension, but have shapes (100,) and (190,)",
     "output_type": "error",
     "traceback": [
      "\u001b[0;31m---------------------------------------------------------------------------\u001b[0m",
      "\u001b[0;31mValueError\u001b[0m                                Traceback (most recent call last)",
      "Cell \u001b[0;32mIn[92], line 3\u001b[0m\n\u001b[1;32m      1\u001b[0m t\u001b[38;5;241m=\u001b[39mnp\u001b[38;5;241m.\u001b[39mlinspace(\u001b[38;5;241m-\u001b[39m\u001b[38;5;241m5\u001b[39m,\u001b[38;5;241m5\u001b[39m,\u001b[38;5;241m100\u001b[39m)\n\u001b[1;32m      2\u001b[0m rect\u001b[38;5;241m=\u001b[39mrect_pulse(t)\n\u001b[0;32m----> 3\u001b[0m \u001b[43mplt\u001b[49m\u001b[38;5;241;43m.\u001b[39;49m\u001b[43mplot\u001b[49m\u001b[43m(\u001b[49m\u001b[43mt\u001b[49m\u001b[43m,\u001b[49m\u001b[43mrect\u001b[49m\u001b[43m)\u001b[49m\n",
      "File \u001b[0;32m~/.local/lib/python3.8/site-packages/matplotlib/pyplot.py:2812\u001b[0m, in \u001b[0;36mplot\u001b[0;34m(scalex, scaley, data, *args, **kwargs)\u001b[0m\n\u001b[1;32m   2810\u001b[0m \u001b[38;5;129m@_copy_docstring_and_deprecators\u001b[39m(Axes\u001b[38;5;241m.\u001b[39mplot)\n\u001b[1;32m   2811\u001b[0m \u001b[38;5;28;01mdef\u001b[39;00m \u001b[38;5;21mplot\u001b[39m(\u001b[38;5;241m*\u001b[39margs, scalex\u001b[38;5;241m=\u001b[39m\u001b[38;5;28;01mTrue\u001b[39;00m, scaley\u001b[38;5;241m=\u001b[39m\u001b[38;5;28;01mTrue\u001b[39;00m, data\u001b[38;5;241m=\u001b[39m\u001b[38;5;28;01mNone\u001b[39;00m, \u001b[38;5;241m*\u001b[39m\u001b[38;5;241m*\u001b[39mkwargs):\n\u001b[0;32m-> 2812\u001b[0m     \u001b[38;5;28;01mreturn\u001b[39;00m \u001b[43mgca\u001b[49m\u001b[43m(\u001b[49m\u001b[43m)\u001b[49m\u001b[38;5;241;43m.\u001b[39;49m\u001b[43mplot\u001b[49m\u001b[43m(\u001b[49m\n\u001b[1;32m   2813\u001b[0m \u001b[43m        \u001b[49m\u001b[38;5;241;43m*\u001b[39;49m\u001b[43margs\u001b[49m\u001b[43m,\u001b[49m\u001b[43m \u001b[49m\u001b[43mscalex\u001b[49m\u001b[38;5;241;43m=\u001b[39;49m\u001b[43mscalex\u001b[49m\u001b[43m,\u001b[49m\u001b[43m \u001b[49m\u001b[43mscaley\u001b[49m\u001b[38;5;241;43m=\u001b[39;49m\u001b[43mscaley\u001b[49m\u001b[43m,\u001b[49m\n\u001b[1;32m   2814\u001b[0m \u001b[43m        \u001b[49m\u001b[38;5;241;43m*\u001b[39;49m\u001b[38;5;241;43m*\u001b[39;49m\u001b[43m(\u001b[49m\u001b[43m{\u001b[49m\u001b[38;5;124;43m\"\u001b[39;49m\u001b[38;5;124;43mdata\u001b[39;49m\u001b[38;5;124;43m\"\u001b[39;49m\u001b[43m:\u001b[49m\u001b[43m \u001b[49m\u001b[43mdata\u001b[49m\u001b[43m}\u001b[49m\u001b[43m \u001b[49m\u001b[38;5;28;43;01mif\u001b[39;49;00m\u001b[43m \u001b[49m\u001b[43mdata\u001b[49m\u001b[43m \u001b[49m\u001b[38;5;129;43;01mis\u001b[39;49;00m\u001b[43m \u001b[49m\u001b[38;5;129;43;01mnot\u001b[39;49;00m\u001b[43m \u001b[49m\u001b[38;5;28;43;01mNone\u001b[39;49;00m\u001b[43m \u001b[49m\u001b[38;5;28;43;01melse\u001b[39;49;00m\u001b[43m \u001b[49m\u001b[43m{\u001b[49m\u001b[43m}\u001b[49m\u001b[43m)\u001b[49m\u001b[43m,\u001b[49m\u001b[43m \u001b[49m\u001b[38;5;241;43m*\u001b[39;49m\u001b[38;5;241;43m*\u001b[39;49m\u001b[43mkwargs\u001b[49m\u001b[43m)\u001b[49m\n",
      "File \u001b[0;32m~/.local/lib/python3.8/site-packages/matplotlib/axes/_axes.py:1688\u001b[0m, in \u001b[0;36mAxes.plot\u001b[0;34m(self, scalex, scaley, data, *args, **kwargs)\u001b[0m\n\u001b[1;32m   1445\u001b[0m \u001b[38;5;250m\u001b[39m\u001b[38;5;124;03m\"\"\"\u001b[39;00m\n\u001b[1;32m   1446\u001b[0m \u001b[38;5;124;03mPlot y versus x as lines and/or markers.\u001b[39;00m\n\u001b[1;32m   1447\u001b[0m \n\u001b[0;32m   (...)\u001b[0m\n\u001b[1;32m   1685\u001b[0m \u001b[38;5;124;03m(``'green'``) or hex strings (``'#008000'``).\u001b[39;00m\n\u001b[1;32m   1686\u001b[0m \u001b[38;5;124;03m\"\"\"\u001b[39;00m\n\u001b[1;32m   1687\u001b[0m kwargs \u001b[38;5;241m=\u001b[39m cbook\u001b[38;5;241m.\u001b[39mnormalize_kwargs(kwargs, mlines\u001b[38;5;241m.\u001b[39mLine2D)\n\u001b[0;32m-> 1688\u001b[0m lines \u001b[38;5;241m=\u001b[39m [\u001b[38;5;241m*\u001b[39m\u001b[38;5;28mself\u001b[39m\u001b[38;5;241m.\u001b[39m_get_lines(\u001b[38;5;241m*\u001b[39margs, data\u001b[38;5;241m=\u001b[39mdata, \u001b[38;5;241m*\u001b[39m\u001b[38;5;241m*\u001b[39mkwargs)]\n\u001b[1;32m   1689\u001b[0m \u001b[38;5;28;01mfor\u001b[39;00m line \u001b[38;5;129;01min\u001b[39;00m lines:\n\u001b[1;32m   1690\u001b[0m     \u001b[38;5;28mself\u001b[39m\u001b[38;5;241m.\u001b[39madd_line(line)\n",
      "File \u001b[0;32m~/.local/lib/python3.8/site-packages/matplotlib/axes/_base.py:311\u001b[0m, in \u001b[0;36m_process_plot_var_args.__call__\u001b[0;34m(self, data, *args, **kwargs)\u001b[0m\n\u001b[1;32m    309\u001b[0m     this \u001b[38;5;241m+\u001b[39m\u001b[38;5;241m=\u001b[39m args[\u001b[38;5;241m0\u001b[39m],\n\u001b[1;32m    310\u001b[0m     args \u001b[38;5;241m=\u001b[39m args[\u001b[38;5;241m1\u001b[39m:]\n\u001b[0;32m--> 311\u001b[0m \u001b[38;5;28;01myield from\u001b[39;00m \u001b[38;5;28;43mself\u001b[39;49m\u001b[38;5;241;43m.\u001b[39;49m\u001b[43m_plot_args\u001b[49m\u001b[43m(\u001b[49m\n\u001b[1;32m    312\u001b[0m \u001b[43m    \u001b[49m\u001b[43mthis\u001b[49m\u001b[43m,\u001b[49m\u001b[43m \u001b[49m\u001b[43mkwargs\u001b[49m\u001b[43m,\u001b[49m\u001b[43m \u001b[49m\u001b[43mambiguous_fmt_datakey\u001b[49m\u001b[38;5;241;43m=\u001b[39;49m\u001b[43mambiguous_fmt_datakey\u001b[49m\u001b[43m)\u001b[49m\n",
      "File \u001b[0;32m~/.local/lib/python3.8/site-packages/matplotlib/axes/_base.py:504\u001b[0m, in \u001b[0;36m_process_plot_var_args._plot_args\u001b[0;34m(self, tup, kwargs, return_kwargs, ambiguous_fmt_datakey)\u001b[0m\n\u001b[1;32m    501\u001b[0m     \u001b[38;5;28mself\u001b[39m\u001b[38;5;241m.\u001b[39maxes\u001b[38;5;241m.\u001b[39myaxis\u001b[38;5;241m.\u001b[39mupdate_units(y)\n\u001b[1;32m    503\u001b[0m \u001b[38;5;28;01mif\u001b[39;00m x\u001b[38;5;241m.\u001b[39mshape[\u001b[38;5;241m0\u001b[39m] \u001b[38;5;241m!=\u001b[39m y\u001b[38;5;241m.\u001b[39mshape[\u001b[38;5;241m0\u001b[39m]:\n\u001b[0;32m--> 504\u001b[0m     \u001b[38;5;28;01mraise\u001b[39;00m \u001b[38;5;167;01mValueError\u001b[39;00m(\u001b[38;5;124mf\u001b[39m\u001b[38;5;124m\"\u001b[39m\u001b[38;5;124mx and y must have same first dimension, but \u001b[39m\u001b[38;5;124m\"\u001b[39m\n\u001b[1;32m    505\u001b[0m                      \u001b[38;5;124mf\u001b[39m\u001b[38;5;124m\"\u001b[39m\u001b[38;5;124mhave shapes \u001b[39m\u001b[38;5;132;01m{\u001b[39;00mx\u001b[38;5;241m.\u001b[39mshape\u001b[38;5;132;01m}\u001b[39;00m\u001b[38;5;124m and \u001b[39m\u001b[38;5;132;01m{\u001b[39;00my\u001b[38;5;241m.\u001b[39mshape\u001b[38;5;132;01m}\u001b[39;00m\u001b[38;5;124m\"\u001b[39m)\n\u001b[1;32m    506\u001b[0m \u001b[38;5;28;01mif\u001b[39;00m x\u001b[38;5;241m.\u001b[39mndim \u001b[38;5;241m>\u001b[39m \u001b[38;5;241m2\u001b[39m \u001b[38;5;129;01mor\u001b[39;00m y\u001b[38;5;241m.\u001b[39mndim \u001b[38;5;241m>\u001b[39m \u001b[38;5;241m2\u001b[39m:\n\u001b[1;32m    507\u001b[0m     \u001b[38;5;28;01mraise\u001b[39;00m \u001b[38;5;167;01mValueError\u001b[39;00m(\u001b[38;5;124mf\u001b[39m\u001b[38;5;124m\"\u001b[39m\u001b[38;5;124mx and y can be no greater than 2D, but have \u001b[39m\u001b[38;5;124m\"\u001b[39m\n\u001b[1;32m    508\u001b[0m                      \u001b[38;5;124mf\u001b[39m\u001b[38;5;124m\"\u001b[39m\u001b[38;5;124mshapes \u001b[39m\u001b[38;5;132;01m{\u001b[39;00mx\u001b[38;5;241m.\u001b[39mshape\u001b[38;5;132;01m}\u001b[39;00m\u001b[38;5;124m and \u001b[39m\u001b[38;5;132;01m{\u001b[39;00my\u001b[38;5;241m.\u001b[39mshape\u001b[38;5;132;01m}\u001b[39;00m\u001b[38;5;124m\"\u001b[39m)\n",
      "\u001b[0;31mValueError\u001b[0m: x and y must have same first dimension, but have shapes (100,) and (190,)"
     ]
    },
    {
     "data": {
      "image/png": "[encoded data removed]",
      "text/plain": [
       "<Figure size 640x480 with 1 Axes>"
      ]
     },
     "metadata": {},
     "output_type": "display_data"
    }
   ],
   "source": [
    "t=np.linspace(-5,5,100)\n",
    "rect=rect_pulse(t)\n",
    "plt.plot(t,rect)"
   ]
  },
  {
   "cell_type": "code",
   "execution_count": 82,
   "id": "f0c4a5eb-c8d5-4a31-9466-293c70abba82",
   "metadata": {},
   "outputs": [],
   "source": [
    "_, delay=gcc_phat(x1,x2,sampling_rate=sampling_rate)"
   ]
  },
  {
   "cell_type": "code",
   "execution_count": 83,
   "id": "bb3713a3-0770-4728-9ee0-ab8981600869",
   "metadata": {},
   "outputs": [
    {
     "name": "stdout",
     "output_type": "stream",
     "text": [
      "Estimated Delay 0.02\n"
     ]
    }
   ],
   "source": [
    "print(f'Estimated Delay {delay}')"
   ]
  },
  {
   "cell_type": "markdown",
   "id": "a96008e5-009d-45ba-bddb-5cf5f421d065",
   "metadata": {},
   "source": [
    "# "
   ]
  }
 ],
 "metadata": {
  "kernelspec": {
   "display_name": "Python 3 (ipykernel)",
   "language": "python",
   "name": "python3"
  },
  "language_info": {
   "codemirror_mode": {
    "name": "ipython",
    "version": 3
   },
   "file_extension": ".py",
   "mimetype": "text/x-python",
   "name": "python",
   "nbconvert_exporter": "python",
   "pygments_lexer": "ipython3",
   "version": "3.8.10"
  }
 },
 "nbformat": 4,
 "nbformat_minor": 5
}
