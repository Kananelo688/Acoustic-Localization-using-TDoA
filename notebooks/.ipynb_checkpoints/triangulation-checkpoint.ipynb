{
 "cells": [
  {
   "cell_type": "markdown",
   "id": "3393619d-40db-4350-9dd7-dffff48a51a1",
   "metadata": {},
   "source": [
    "# Notebook to simulate triangulation algorithms"
   ]
  },
  {
   "cell_type": "code",
   "execution_count": 5,
   "id": "d3c575f3-1c99-4e46-bb2a-fdc15423a485",
   "metadata": {},
   "outputs": [],
   "source": [
    "import math as m\n",
    "import numpy as np\n",
    "import scipy as sp\n",
    "\n",
    "\n",
    "#Define constants\n",
    "SPEED=343 #m/s\n",
    "MAX_ITERATION=1e+9\n",
    "MIM_ERROR=1e-7 "
   ]
  },
  {
   "cell_type": "code",
   "execution_count": null,
   "id": "41a0b091-6cbc-4d19-9d93-c1bb6ac1fdc5",
   "metadata": {},
   "outputs": [],
   "source": [
    "#Define  fucntion that takes a tuple of coordinates of two points and calculates distance between the them\n",
    "\n",
    "def distance(coord1,coord2):\n",
    "    if len(coord1)!=len(coord2) or len(coord1)<2 or len(coord2)<2:\n",
    "        print(\"Incorrect coordinates given\")\n",
    "        return 0.0\n",
    "    return m.sqrt((coord1[0]-coord2[0])**2+(coord1[1]-coord2[1])**2)\n",
    "    \n"
   ]
  }
 ],
 "metadata": {
  "kernelspec": {
   "display_name": "Python 3 (ipykernel)",
   "language": "python",
   "name": "python3"
  },
  "language_info": {
   "codemirror_mode": {
    "name": "ipython",
    "version": 3
   },
   "file_extension": ".py",
   "mimetype": "text/x-python",
   "name": "python",
   "nbconvert_exporter": "python",
   "pygments_lexer": "ipython3",
   "version": "3.8.10"
  }
 },
 "nbformat": 4,
 "nbformat_minor": 5
}
